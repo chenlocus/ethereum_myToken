{
 "cells": [
  {
   "cell_type": "code",
   "execution_count": 9,
   "metadata": {},
   "outputs": [
    {
     "name": "stderr",
     "output_type": "stream",
     "text": [
      "c:\\users\\hchen\\appdata\\local\\programs\\python\\python36-32\\lib\\site-packages\\ipykernel_launcher.py:18: DeprecationWarning: enable_unaudited_features is deprecated in favor of doing nothing at all\n"
     ]
    },
    {
     "name": "stdout",
     "output_type": "stream",
     "text": [
      "None\n",
      "AttributeDict({'blockHash': HexBytes('0x154a765736a8cda3e09db0fad1153bad47ea8ea3e4c74113b1585fc08cf8defd'), 'blockNumber': 5514310, 'contractAddress': None, 'cumulativeGasUsed': 52797, 'from': '0x042d6e3ac0018098d331093ed6c4ae4c143cc568', 'gasUsed': 52797, 'logs': [AttributeDict({'address': '0xd76939CfB7ee03F8eEf7111820C89E14b601aAE9', 'blockHash': HexBytes('0x154a765736a8cda3e09db0fad1153bad47ea8ea3e4c74113b1585fc08cf8defd'), 'blockNumber': 5514310, 'data': '0x0000000000000000000000000000000000000000000000000000000000000bb8', 'logIndex': 0, 'removed': False, 'topics': [HexBytes('0xddf252ad1be2c89b69c2b068fc378daa952ba7f163c4a11628f55a4df523b3ef'), HexBytes('0x000000000000000000000000042d6e3ac0018098d331093ed6c4ae4c143cc568'), HexBytes('0x00000000000000000000000066e0039f397138eca6ca2f1fddc9730de76bc246')], 'transactionHash': HexBytes('0x0cc111aa16f486eba14e48d7790522e65f7de592125c784bcb93dfcd9b8ee6f1'), 'transactionIndex': 0})], 'logsBloom': HexBytes('0x00000000000400000000400000000000000000000000000000000000000000000000000000000000000000000000000000000000000200000004001000000020000000000000000000000008000040000000000000000000000000000000000000000000000000100000000000000000000000000020000000000010000000000000000000000000000000000000000000000000000000000000000000000000000000000000000000000000000000000000000000000000000000000000000000000002000000000000000000000000000000000000000000000000000000000000000000000000000000000000000000000000000000000000000000000000'), 'status': 1, 'to': '0xd76939cfb7ee03f8eef7111820c89e14b601aae9', 'transactionHash': HexBytes('0x0cc111aa16f486eba14e48d7790522e65f7de592125c784bcb93dfcd9b8ee6f1'), 'transactionIndex': 0})\n"
     ]
    }
   ],
   "source": [
    "#transfer to account hao2\n",
    "import time\n",
    "from web3 import Web3, HTTPProvider\n",
    "import contract_abi\n",
    "\n",
    "contract_address     = '0xd76939cfb7ee03f8eef7111820c89e14b601aae9'\n",
    "wallet_private_key   = 'e3557bf7cf16ef32d5fb9040971b6342038e71a71c06b0f477af049e7bf21d72'\n",
    "wallet_address       = '0x042D6E3AC0018098d331093Ed6C4aE4C143CC568'\n",
    "\n",
    "wallet_private_key_2   = '75ad4c49ab94a7103cc36aa354f28d8f736a79c719ccdbe58cda4d04c5560be0'\n",
    "wallet_address_2       = '0x66E0039f397138ECa6Ca2f1fdDC9730dE76BC246'\n",
    "\n",
    "wallet_private_key_3   = '794b953c742e5fe01292a40eeed7a786ebe29a07e8949f62720f851678ca5dd7'\n",
    "wallet_address_3       = '0xCd1616d80Bef1d5127afcAb5B07f1FDEd6db88Db'\n",
    "\n",
    "w3 = Web3(HTTPProvider('https://ropsten.infura.io/v3/16fd0fe69c1441b4ba6abc7f50891fcc'))\n",
    "\n",
    "w3.eth.enable_unaudited_features()\n",
    "contract_address = w3.toChecksumAddress(contract_address)\n",
    "wallet_address = w3.toChecksumAddress(wallet_address)\n",
    "contract = w3.eth.contract(address = contract_address, abi = contract_abi.abi)\n",
    "\n",
    "def transfer_to(addr,amount):\n",
    "\n",
    "\n",
    "    nonce = w3.eth.getTransactionCount(wallet_address)\n",
    "\n",
    "    txn_dict = contract.functions.transfer(addr,amount).buildTransaction({\n",
    "        'chainId': 3,\n",
    "        'gas': 140000,\n",
    "        'gasPrice': w3.toWei('40', 'gwei'),\n",
    "        'nonce': nonce,\n",
    "    })\n",
    "\n",
    "    signed_txn = w3.eth.account.signTransaction(txn_dict, private_key=wallet_private_key)\n",
    "\n",
    "    result = w3.eth.sendRawTransaction(signed_txn.rawTransaction)\n",
    "\n",
    "    tx_receipt = w3.eth.getTransactionReceipt(result)\n",
    "\n",
    "    count = 0\n",
    "    while tx_receipt is None and (count < 30):\n",
    "\n",
    "        time.sleep(10)\n",
    "\n",
    "        tx_receipt = w3.eth.getTransactionReceipt(result)\n",
    "\n",
    "        print(tx_receipt)\n",
    "\n",
    "\n",
    "    if tx_receipt is None:\n",
    "        return {'status': 'failed', 'error': 'timeout'}\n",
    "\n",
    "\n",
    "if __name__ == \"__main__\":\n",
    "    transfer_to(wallet_address_2,3000)"
   ]
  },
  {
   "cell_type": "code",
   "execution_count": 10,
   "metadata": {},
   "outputs": [
    {
     "name": "stderr",
     "output_type": "stream",
     "text": [
      "c:\\users\\hchen\\appdata\\local\\programs\\python\\python36-32\\lib\\site-packages\\ipykernel_launcher.py:19: DeprecationWarning: enable_unaudited_features is deprecated in favor of doing nothing at all\n"
     ]
    },
    {
     "name": "stdout",
     "output_type": "stream",
     "text": [
      "None\n",
      "None\n",
      "None\n",
      "AttributeDict({'blockHash': HexBytes('0xbd58a4fa8719fff1cb6a5c5b0dd7d80a1c705326c4ef458e3224cee7472f2a95'), 'blockNumber': 5514327, 'contractAddress': None, 'cumulativeGasUsed': 45331, 'from': '0x042d6e3ac0018098d331093ed6c4ae4c143cc568', 'gasUsed': 45331, 'logs': [AttributeDict({'address': '0xd76939CfB7ee03F8eEf7111820C89E14b601aAE9', 'blockHash': HexBytes('0xbd58a4fa8719fff1cb6a5c5b0dd7d80a1c705326c4ef458e3224cee7472f2a95'), 'blockNumber': 5514327, 'data': '0x00000000000000000000000000000000000000000000000000000000000007d0', 'logIndex': 0, 'removed': False, 'topics': [HexBytes('0x8c5be1e5ebec7d5bd14f71427d1e84f3dd0314c0f7b2291e5b200ac8c7c3b925'), HexBytes('0x000000000000000000000000042d6e3ac0018098d331093ed6c4ae4c143cc568'), HexBytes('0x00000000000000000000000066e0039f397138eca6ca2f1fddc9730de76bc246')], 'transactionHash': HexBytes('0x89a56f4fe6c8adcaf7d41c417a2babe47a68d20be2a557843c242c785b8a9125'), 'transactionIndex': 0})], 'logsBloom': HexBytes('0x00000000000400000000400000000000000000000000000000000000000000000000000000000000000000000000000000000000000200000004001000200020000000000000000000000000000040000000000000000000000000000000000000000000000000100000000000000000000000000020000000000000000000000000000000000000000000000000000000000000000000000000000000000000020000000000000000000000000000000000000000000000000000000000000000000000000000000000000000000000000000000000000000000000000000000010000000000000000000000000000000000000000000000000000000000000'), 'status': 1, 'to': '0xd76939cfb7ee03f8eef7111820c89e14b601aae9', 'transactionHash': HexBytes('0x89a56f4fe6c8adcaf7d41c417a2babe47a68d20be2a557843c242c785b8a9125'), 'transactionIndex': 0})\n"
     ]
    }
   ],
   "source": [
    "# set allowance for account hao2: 2000 tokens\n",
    "#transfer to account hao2\n",
    "import time\n",
    "from web3 import Web3, HTTPProvider\n",
    "import contract_abi\n",
    "\n",
    "contract_address     = '0xd76939cfb7ee03f8eef7111820c89e14b601aae9'\n",
    "wallet_private_key   = 'e3557bf7cf16ef32d5fb9040971b6342038e71a71c06b0f477af049e7bf21d72'\n",
    "wallet_address       = '0x042D6E3AC0018098d331093Ed6C4aE4C143CC568'\n",
    "\n",
    "wallet_private_key_2   = '75ad4c49ab94a7103cc36aa354f28d8f736a79c719ccdbe58cda4d04c5560be0'\n",
    "wallet_address_2       = '0x66E0039f397138ECa6Ca2f1fdDC9730dE76BC246'\n",
    "\n",
    "wallet_private_key_3   = '794b953c742e5fe01292a40eeed7a786ebe29a07e8949f62720f851678ca5dd7'\n",
    "wallet_address_3       = '0xCd1616d80Bef1d5127afcAb5B07f1FDEd6db88Db'\n",
    "\n",
    "w3 = Web3(HTTPProvider('https://ropsten.infura.io/v3/16fd0fe69c1441b4ba6abc7f50891fcc'))\n",
    "\n",
    "w3.eth.enable_unaudited_features()\n",
    "contract_address = w3.toChecksumAddress(contract_address)\n",
    "wallet_address = w3.toChecksumAddress(wallet_address)\n",
    "contract = w3.eth.contract(address = contract_address, abi = contract_abi.abi)\n",
    "\n",
    "def set_allowance(addr,amount):\n",
    "\n",
    "\n",
    "    nonce = w3.eth.getTransactionCount(wallet_address)\n",
    "\n",
    "    txn_dict = contract.functions.approve(addr,amount).buildTransaction({\n",
    "        'chainId': 3,\n",
    "        'gas': 140000,\n",
    "        'gasPrice': w3.toWei('40', 'gwei'),\n",
    "        'nonce': nonce,\n",
    "    })\n",
    "\n",
    "    signed_txn = w3.eth.account.signTransaction(txn_dict, private_key=wallet_private_key)\n",
    "\n",
    "    result = w3.eth.sendRawTransaction(signed_txn.rawTransaction)\n",
    "\n",
    "    tx_receipt = w3.eth.getTransactionReceipt(result)\n",
    "\n",
    "    count = 0\n",
    "    while tx_receipt is None and (count < 30):\n",
    "\n",
    "        time.sleep(10)\n",
    "\n",
    "        tx_receipt = w3.eth.getTransactionReceipt(result)\n",
    "\n",
    "        print(tx_receipt)\n",
    "\n",
    "\n",
    "    if tx_receipt is None:\n",
    "        return {'status': 'failed', 'error': 'timeout'}\n",
    "\n",
    "\n",
    "if __name__ == \"__main__\":\n",
    "    set_allowance(wallet_address_2,2000)"
   ]
  },
  {
   "cell_type": "code",
   "execution_count": 11,
   "metadata": {},
   "outputs": [
    {
     "name": "stderr",
     "output_type": "stream",
     "text": [
      "c:\\users\\hchen\\appdata\\local\\programs\\python\\python36-32\\lib\\site-packages\\ipykernel_launcher.py:19: DeprecationWarning: enable_unaudited_features is deprecated in favor of doing nothing at all\n"
     ]
    },
    {
     "name": "stdout",
     "output_type": "stream",
     "text": [
      "None\n",
      "None\n",
      "None\n",
      "None\n",
      "AttributeDict({'blockHash': HexBytes('0x4836e2a65536be0f0864bebcaca3de0a637de77664e2c61e0f3b0f0734f014be'), 'blockNumber': 5514337, 'contractAddress': None, 'cumulativeGasUsed': 3410733, 'from': '0x042d6e3ac0018098d331093ed6c4ae4c143cc568', 'gasUsed': 59822, 'logs': [AttributeDict({'address': '0xd76939CfB7ee03F8eEf7111820C89E14b601aAE9', 'blockHash': HexBytes('0x4836e2a65536be0f0864bebcaca3de0a637de77664e2c61e0f3b0f0734f014be'), 'blockNumber': 5514337, 'data': '0x00000000000000000000000000000000000000000000000000000000000003e8', 'logIndex': 0, 'removed': False, 'topics': [HexBytes('0xddf252ad1be2c89b69c2b068fc378daa952ba7f163c4a11628f55a4df523b3ef'), HexBytes('0x00000000000000000000000066e0039f397138eca6ca2f1fddc9730de76bc246'), HexBytes('0x000000000000000000000000cd1616d80bef1d5127afcab5b07f1fded6db88db')], 'transactionHash': HexBytes('0x88dae24f146c1ced9bc3b2a78ab1c39e559528ba2a5650b63e467d4aeda2943b'), 'transactionIndex': 1})], 'logsBloom': HexBytes('0x00000000000000000000000000000000000000000000000000000000000000000000000000000000000000000000000000000000000200000004001000000020000000000000000000000008000040000000000000000000000000000000000000000000000000100000000000000000000000000000000000000010000000000000000000000000000000000000000100000000000000000000000000000000000000000000000000000000000000000000000000000000000000000000000000000002000000000000000000000000000000000000000000000000000000000000000000000000004000000000000040000000000000000000000000000000'), 'status': 1, 'to': '0xd76939cfb7ee03f8eef7111820c89e14b601aae9', 'transactionHash': HexBytes('0x88dae24f146c1ced9bc3b2a78ab1c39e559528ba2a5650b63e467d4aeda2943b'), 'transactionIndex': 1})\n"
     ]
    }
   ],
   "source": [
    "# transfer from allowance acccount to other account: 2000 tokens\n",
    "#transfer to account hao2\n",
    "import time\n",
    "from web3 import Web3, HTTPProvider\n",
    "import contract_abi\n",
    "\n",
    "contract_address     = '0xd76939cfb7ee03f8eef7111820c89e14b601aae9'\n",
    "wallet_private_key   = 'e3557bf7cf16ef32d5fb9040971b6342038e71a71c06b0f477af049e7bf21d72'\n",
    "wallet_address       = '0x042D6E3AC0018098d331093Ed6C4aE4C143CC568'\n",
    "\n",
    "wallet_private_key_2   = '75ad4c49ab94a7103cc36aa354f28d8f736a79c719ccdbe58cda4d04c5560be0'\n",
    "wallet_address_2       = '0x66E0039f397138ECa6Ca2f1fdDC9730dE76BC246'\n",
    "\n",
    "wallet_private_key_3   = '794b953c742e5fe01292a40eeed7a786ebe29a07e8949f62720f851678ca5dd7'\n",
    "wallet_address_3       = '0xCd1616d80Bef1d5127afcAb5B07f1FDEd6db88Db'\n",
    "\n",
    "w3 = Web3(HTTPProvider('https://ropsten.infura.io/v3/16fd0fe69c1441b4ba6abc7f50891fcc'))\n",
    "\n",
    "w3.eth.enable_unaudited_features()\n",
    "contract_address = w3.toChecksumAddress(contract_address)\n",
    "wallet_address = w3.toChecksumAddress(wallet_address)\n",
    "contract = w3.eth.contract(address = contract_address, abi = contract_abi.abi)\n",
    "\n",
    "def transfer_from(addr1,addr2,amount):\n",
    "\n",
    "\n",
    "    nonce = w3.eth.getTransactionCount(wallet_address)\n",
    "\n",
    "    txn_dict = contract.functions.transferFrom(addr1,addr2,amount).buildTransaction({\n",
    "        'chainId': 3,\n",
    "        'gas': 140000,\n",
    "        'gasPrice': w3.toWei('40', 'gwei'),\n",
    "        'nonce': nonce,\n",
    "    })\n",
    "\n",
    "    signed_txn = w3.eth.account.signTransaction(txn_dict, private_key=wallet_private_key)\n",
    "\n",
    "    result = w3.eth.sendRawTransaction(signed_txn.rawTransaction)\n",
    "\n",
    "    tx_receipt = w3.eth.getTransactionReceipt(result)\n",
    "\n",
    "    count = 0\n",
    "    while tx_receipt is None and (count < 30):\n",
    "\n",
    "        time.sleep(10)\n",
    "\n",
    "        tx_receipt = w3.eth.getTransactionReceipt(result)\n",
    "\n",
    "        print(tx_receipt)\n",
    "\n",
    "\n",
    "    if tx_receipt is None:\n",
    "        return {'status': 'failed', 'error': 'timeout'}\n",
    "\n",
    "\n",
    "if __name__ == \"__main__\":\n",
    "    transfer_from(wallet_address_2,wallet_address_3,1000)"
   ]
  },
  {
   "cell_type": "code",
   "execution_count": 3,
   "metadata": {},
   "outputs": [
    {
     "name": "stderr",
     "output_type": "stream",
     "text": [
      "c:\\users\\hchen\\appdata\\local\\programs\\python\\python36-32\\lib\\site-packages\\ipykernel_launcher.py:20: DeprecationWarning: enable_unaudited_features is deprecated in favor of doing nothing at all\n"
     ]
    },
    {
     "name": "stdout",
     "output_type": "stream",
     "text": [
      "None\n",
      "AttributeDict({'blockHash': HexBytes('0xb3668c1170daf4d598b8ab6566e163ab81a15bb3c3c8be9a4f57b6700d263708'), 'blockNumber': 5542945, 'contractAddress': None, 'cumulativeGasUsed': 34339, 'from': '0x042d6e3ac0018098d331093ed6c4ae4c143cc568', 'gasUsed': 34339, 'logs': [AttributeDict({'address': '0xd76939CfB7ee03F8eEf7111820C89E14b601aAE9', 'blockHash': HexBytes('0xb3668c1170daf4d598b8ab6566e163ab81a15bb3c3c8be9a4f57b6700d263708'), 'blockNumber': 5542945, 'data': '0x0000000000000000000000000000000000000000000000000000000000061a80', 'logIndex': 0, 'removed': False, 'topics': [HexBytes('0xcc16f5dbb4873280815c1ee09dbd06736cffcc184412cf7a71a0fdb75d397ca5'), HexBytes('0x000000000000000000000000042d6e3ac0018098d331093ed6c4ae4c143cc568')], 'transactionHash': HexBytes('0x6b33a966e5c74b15f332bdae4a01fa3a18c0feb5982741f299e98c33751924a1'), 'transactionIndex': 0})], 'logsBloom': HexBytes('0x00000000000400000000400000000000000000000000001000000000000000000000000000000000000000000000000000000000000000000004001000000000000000000000000000000000000040000000000000000000000000000000000000000000000000000000000000000000080000000020000000000000000000000000000000000000000000000000000000000000000000000000000000200000000000000000000000000000000000000000000000000000000000000000000000000000000000000000000000000000000000000000000000000000000000000000000000000000000000000000000000000000000000000000000000000000'), 'status': 1, 'to': '0xd76939cfb7ee03f8eef7111820c89e14b601aae9', 'transactionHash': HexBytes('0x6b33a966e5c74b15f332bdae4a01fa3a18c0feb5982741f299e98c33751924a1'), 'transactionIndex': 0})\n"
     ]
    }
   ],
   "source": [
    "# since the original smart contract is buggy and re-deployed, we need to burn all the tokens\n",
    "#transfer to account hao2\n",
    "import time\n",
    "from web3 import Web3, HTTPProvider\n",
    "import contract_abi\n",
    "\n",
    "#contract_address     = '0xf4989620bde661adf7e68cd4a8dd14769c757dc3'\n",
    "contract_address     = '0xd76939cfb7ee03f8eef7111820c89e14b601aae9'\n",
    "wallet_private_key   = 'e3557bf7cf16ef32d5fb9040971b6342038e71a71c06b0f477af049e7bf21d72'\n",
    "wallet_address       = '0x042D6E3AC0018098d331093Ed6C4aE4C143CC568'\n",
    "\n",
    "wallet_private_key_2   = '75ad4c49ab94a7103cc36aa354f28d8f736a79c719ccdbe58cda4d04c5560be0'\n",
    "wallet_address_2       = '0x66E0039f397138ECa6Ca2f1fdDC9730dE76BC246'\n",
    "\n",
    "wallet_private_key_3   = '794b953c742e5fe01292a40eeed7a786ebe29a07e8949f62720f851678ca5dd7'\n",
    "wallet_address_3       = '0xCd1616d80Bef1d5127afcAb5B07f1FDEd6db88Db'\n",
    "\n",
    "w3 = Web3(HTTPProvider('https://ropsten.infura.io/v3/16fd0fe69c1441b4ba6abc7f50891fcc'))\n",
    "\n",
    "w3.eth.enable_unaudited_features()\n",
    "contract_address = w3.toChecksumAddress(contract_address)\n",
    "wallet_address = w3.toChecksumAddress(wallet_address)\n",
    "contract = w3.eth.contract(address = contract_address, abi = contract_abi.abi)\n",
    "\n",
    "def burn(wallet_address,private_key,amount):\n",
    "\n",
    "\n",
    "    nonce = w3.eth.getTransactionCount(wallet_address)\n",
    "\n",
    "    txn_dict = contract.functions.burn(amount).buildTransaction({\n",
    "        'chainId': 3,\n",
    "        'gas': 140000,\n",
    "        'gasPrice': w3.toWei('40', 'gwei'),\n",
    "        'nonce': nonce,\n",
    "    })\n",
    "\n",
    "    signed_txn = w3.eth.account.signTransaction(txn_dict, private_key=wallet_private_key)\n",
    "\n",
    "    result = w3.eth.sendRawTransaction(signed_txn.rawTransaction)\n",
    "\n",
    "    tx_receipt = w3.eth.getTransactionReceipt(result)\n",
    "\n",
    "    count = 0\n",
    "    while tx_receipt is None and (count < 30):\n",
    "\n",
    "        time.sleep(10)\n",
    "\n",
    "        tx_receipt = w3.eth.getTransactionReceipt(result)\n",
    "\n",
    "        print(tx_receipt)\n",
    "\n",
    "\n",
    "    if tx_receipt is None:\n",
    "        return {'status': 'failed', 'error': 'timeout'}\n",
    "\n",
    "\n",
    "if __name__ == \"__main__\":\n",
    "   burn(wallet_address,wallet_private_key,400000)"
   ]
  },
  {
   "cell_type": "code",
   "execution_count": null,
   "metadata": {},
   "outputs": [],
   "source": []
  },
  {
   "cell_type": "code",
   "execution_count": null,
   "metadata": {},
   "outputs": [],
   "source": []
  }
 ],
 "metadata": {
  "kernelspec": {
   "display_name": "Python 3",
   "language": "python",
   "name": "python3"
  },
  "language_info": {
   "codemirror_mode": {
    "name": "ipython",
    "version": 3
   },
   "file_extension": ".py",
   "mimetype": "text/x-python",
   "name": "python",
   "nbconvert_exporter": "python",
   "pygments_lexer": "ipython3",
   "version": "3.6.5"
  }
 },
 "nbformat": 4,
 "nbformat_minor": 2
}
